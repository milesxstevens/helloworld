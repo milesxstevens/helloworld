{
 "cells": [
  {
   "cell_type": "markdown",
   "id": "8316f3bd-9426-4a73-8c62-0c6ea9a75295",
   "metadata": {},
   "source": [
    "## Variables and DataTypes\n",
    "\n",
    "In this section I cover defining variables in Python."
   ]
  },
  {
   "cell_type": "code",
   "execution_count": 6,
   "id": "af897f18-2ae9-4258-8bde-8f8f28c5ef3a",
   "metadata": {},
   "outputs": [],
   "source": [
    "anInt = 2\n",
    "aFloat = 5.0\n",
    "aString = \"hello\"\n",
    "aList = [1,2,3]\n",
    "aDict = {'joe': 5, 'wally': 2}"
   ]
  },
  {
   "cell_type": "code",
   "execution_count": 2,
   "id": "7675e356-4ca8-4358-8faf-3374d85e7542",
   "metadata": {},
   "outputs": [
    {
     "name": "stdout",
     "output_type": "stream",
     "text": [
      "2\n"
     ]
    }
   ],
   "source": [
    "print(anInt)"
   ]
  },
  {
   "cell_type": "code",
   "execution_count": 4,
   "id": "5812e358-90f4-45b4-8653-73087b49b9c4",
   "metadata": {},
   "outputs": [
    {
     "data": {
      "text/plain": [
       "float"
      ]
     },
     "execution_count": 4,
     "metadata": {},
     "output_type": "execute_result"
    }
   ],
   "source": [
    "type(aFloat)"
   ]
  },
  {
   "cell_type": "code",
   "execution_count": 5,
   "id": "a13384f4-8110-40eb-b4f3-d5a514b6eae6",
   "metadata": {},
   "outputs": [
    {
     "data": {
      "text/plain": [
       "str"
      ]
     },
     "execution_count": 5,
     "metadata": {},
     "output_type": "execute_result"
    }
   ],
   "source": [
    "type(aString)"
   ]
  },
  {
   "cell_type": "markdown",
   "id": "685af7d2-8d24-4685-93df-5a65f1251808",
   "metadata": {},
   "source": [
    "## Modules\n",
    "\n",
    "Here we use two built-in Python modules: os and math"
   ]
  },
  {
   "cell_type": "code",
   "execution_count": 8,
   "id": "0a417ae2-5798-4ef5-8b17-cdf7e5fbdce0",
   "metadata": {},
   "outputs": [
    {
     "ename": "SyntaxError",
     "evalue": "invalid syntax (<ipython-input-8-aaf1b924ecde>, line 3)",
     "output_type": "error",
     "traceback": [
      "\u001b[0;36m  Input \u001b[0;32mIn [8]\u001b[0;36m\u001b[0m\n\u001b[0;31m    here we use two builtin Python modules: os an math\u001b[0m\n\u001b[0m         ^\u001b[0m\n\u001b[0;31mSyntaxError\u001b[0m\u001b[0;31m:\u001b[0m invalid syntax\n"
     ]
    }
   ],
   "source": [
    "##Modules \n",
    "\n",
    "here we use two builtin Python modules: os an math"
   ]
  },
  {
   "cell_type": "code",
   "execution_count": 9,
   "id": "aad516ff-93b5-4692-8b16-71aab5b70ef3",
   "metadata": {},
   "outputs": [
    {
     "ename": "SyntaxError",
     "evalue": "invalid syntax (<ipython-input-9-ef364a87d0c1>, line 3)",
     "output_type": "error",
     "traceback": [
      "\u001b[0;36m  Input \u001b[0;32mIn [9]\u001b[0;36m\u001b[0m\n\u001b[0;31m    here we use two built\u001b[0m\n\u001b[0m         ^\u001b[0m\n\u001b[0;31mSyntaxError\u001b[0m\u001b[0;31m:\u001b[0m invalid syntax\n"
     ]
    }
   ],
   "source": [
    "##Modules\n",
    "\n",
    "here we use two built"
   ]
  },
  {
   "cell_type": "code",
   "execution_count": 11,
   "id": "ca88e637-31ae-4457-b880-8b6ab6a41560",
   "metadata": {},
   "outputs": [],
   "source": [
    "##modules"
   ]
  },
  {
   "cell_type": "code",
   "execution_count": 12,
   "id": "8915928b-3f20-455a-8f0a-0c3fbf13e60b",
   "metadata": {},
   "outputs": [],
   "source": [
    "## Modules"
   ]
  },
  {
   "cell_type": "code",
   "execution_count": 13,
   "id": "2989e8b1-17f4-4b34-92be-49f3c3fa307e",
   "metadata": {},
   "outputs": [],
   "source": [
    "import math"
   ]
  },
  {
   "cell_type": "code",
   "execution_count": 14,
   "id": "38fc8118-f6ed-4d3a-84ee-8ff28ad2f47f",
   "metadata": {},
   "outputs": [
    {
     "name": "stdout",
     "output_type": "stream",
     "text": [
      "3.141592653589793\n"
     ]
    }
   ],
   "source": [
    "print(math.pi)"
   ]
  },
  {
   "cell_type": "code",
   "execution_count": 15,
   "id": "df87c06c-1c71-45a5-b4d0-ad78f1dee2e1",
   "metadata": {},
   "outputs": [],
   "source": [
    "import os"
   ]
  },
  {
   "cell_type": "code",
   "execution_count": 16,
   "id": "9cb9665c-a219-475b-8ad7-46a4a6d6542d",
   "metadata": {},
   "outputs": [
    {
     "data": {
      "text/plain": [
       "'/Users/milesstevens/Documents/GitHub/helloworld'"
      ]
     },
     "execution_count": 16,
     "metadata": {},
     "output_type": "execute_result"
    }
   ],
   "source": [
    "os.getcwd()"
   ]
  },
  {
   "cell_type": "markdown",
   "id": "97dcd051-dcfa-4100-b078-55232f6d7959",
   "metadata": {},
   "source": [
    "## Python as Calculator"
   ]
  },
  {
   "cell_type": "code",
   "execution_count": 19,
   "id": "b9def5b1-37a8-4bce-a3b2-a7b37d869bd7",
   "metadata": {},
   "outputs": [
    {
     "data": {
      "text/plain": [
       "4"
      ]
     },
     "execution_count": 19,
     "metadata": {},
     "output_type": "execute_result"
    }
   ],
   "source": [
    "2+2"
   ]
  },
  {
   "cell_type": "code",
   "execution_count": 20,
   "id": "e9d49502-f51b-4cf1-93ef-611cd5e6c05c",
   "metadata": {},
   "outputs": [
    {
     "data": {
      "text/plain": [
       "-6"
      ]
     },
     "execution_count": 20,
     "metadata": {},
     "output_type": "execute_result"
    }
   ],
   "source": [
    "83-89"
   ]
  },
  {
   "cell_type": "code",
   "execution_count": 21,
   "id": "1238f13d-6fc3-44c1-a4a8-6df9392d70ef",
   "metadata": {},
   "outputs": [
    {
     "name": "stdout",
     "output_type": "stream",
     "text": [
      "9\n"
     ]
    }
   ],
   "source": [
    "product = 3*3\n",
    "print(product)"
   ]
  },
  {
   "cell_type": "code",
   "execution_count": 22,
   "id": "8ff6287f-c6d1-40b8-bb82-45d219e59bd6",
   "metadata": {},
   "outputs": [
    {
     "data": {
      "text/plain": [
       "2.0"
      ]
     },
     "execution_count": 22,
     "metadata": {},
     "output_type": "execute_result"
    }
   ],
   "source": [
    "a=50\n",
    "b=25\n",
    "a/b"
   ]
  },
  {
   "cell_type": "code",
   "execution_count": 23,
   "id": "2d47727b-08ca-444f-ad74-bed3c060e514",
   "metadata": {},
   "outputs": [
    {
     "name": "stdout",
     "output_type": "stream",
     "text": [
      "2500\n"
     ]
    }
   ],
   "source": [
    "asquared = a**2\n",
    "print(asquared)"
   ]
  },
  {
   "cell_type": "markdown",
   "id": "966ed967-df48-427e-838c-268fb07acbd7",
   "metadata": {},
   "source": [
    "## List\n",
    "\n",
    "A list is an ordered set of objects"
   ]
  },
  {
   "cell_type": "code",
   "execution_count": 24,
   "id": "06fd548b-b725-4913-8c35-1f048225b5aa",
   "metadata": {},
   "outputs": [],
   "source": [
    "ints = [1, 2,3,4]\n",
    "reals = [1,2,3.5,4]\n",
    "strings = ['h', 'e', 'l', 'l', 'o']\n",
    "combo = [1, 'h', 2, 'l', 3]\n"
   ]
  },
  {
   "cell_type": "code",
   "execution_count": 25,
   "id": "daec0dad-c3b6-4ee4-b310-7749e0abc476",
   "metadata": {},
   "outputs": [
    {
     "name": "stdout",
     "output_type": "stream",
     "text": [
      "1\n",
      "4\n"
     ]
    }
   ],
   "source": [
    "print(ints[0])\n",
    "print(ints[3])"
   ]
  },
  {
   "cell_type": "code",
   "execution_count": 26,
   "id": "c3ca6aca-6725-4958-b1d1-cbc9f7b21d45",
   "metadata": {},
   "outputs": [
    {
     "name": "stdout",
     "output_type": "stream",
     "text": [
      "4\n"
     ]
    }
   ],
   "source": [
    "print(ints[-1])"
   ]
  },
  {
   "cell_type": "code",
   "execution_count": 28,
   "id": "ce584ec9-0617-4730-ab54-730b0c3e758b",
   "metadata": {},
   "outputs": [
    {
     "name": "stdout",
     "output_type": "stream",
     "text": [
      "[2, 3]\n",
      "[1, 2]\n",
      "[3, 4]\n"
     ]
    }
   ],
   "source": [
    "# splicing\n",
    "print(ints[1:3])\n",
    "print(ints[:2])\n",
    "print(ints[2:])"
   ]
  },
  {
   "cell_type": "code",
   "execution_count": 29,
   "id": "7800673e-6e26-4098-9368-564993a4e419",
   "metadata": {},
   "outputs": [
    {
     "name": "stdout",
     "output_type": "stream",
     "text": [
      "[1, 2, 3, 4, 5]\n"
     ]
    }
   ],
   "source": [
    "ints.append(5)\n",
    "print(ints)"
   ]
  },
  {
   "cell_type": "code",
   "execution_count": 30,
   "id": "95a000db-9dd5-42d2-ac13-cea4a7039a07",
   "metadata": {},
   "outputs": [
    {
     "name": "stdout",
     "output_type": "stream",
     "text": [
      "[1, 2, 3, 4]\n"
     ]
    }
   ],
   "source": [
    "lastItem = ints.pop()\n",
    "print(ints)"
   ]
  },
  {
   "cell_type": "code",
   "execution_count": 31,
   "id": "581c969d-b7ae-4ddd-9a92-677e6f21fd15",
   "metadata": {},
   "outputs": [
    {
     "name": "stdout",
     "output_type": "stream",
     "text": [
      "5\n"
     ]
    }
   ],
   "source": [
    "print(lastItem)"
   ]
  },
  {
   "cell_type": "code",
   "execution_count": 33,
   "id": "3b39e068-3b59-4421-aa43-61b2162ee391",
   "metadata": {},
   "outputs": [
    {
     "name": "stdout",
     "output_type": "stream",
     "text": [
      "1\n",
      "2\n",
      "3\n",
      "4\n",
      "[1, 2, 3, 4]\n"
     ]
    }
   ],
   "source": [
    "for i in ints:\n",
    "    print(i)\n",
    "    \n",
    "print(ints)"
   ]
  },
  {
   "cell_type": "markdown",
   "id": "f14e667a-9fd9-4edf-b0f5-f7428f0c4f30",
   "metadata": {},
   "source": [
    "## Dictionaries\n",
    "\n",
    "Dictionaries are used in Python to store in keuy:value pairs"
   ]
  },
  {
   "cell_type": "code",
   "execution_count": 1,
   "id": "e32e76c5-83bf-47e7-a622-49beb2d246d2",
   "metadata": {},
   "outputs": [],
   "source": [
    "aDict = {'joe': 4, 'wally': 2}"
   ]
  },
  {
   "cell_type": "code",
   "execution_count": 2,
   "id": "b7a17e33-c8f5-47cf-bbb8-5a3103b23f5e",
   "metadata": {},
   "outputs": [
    {
     "name": "stdout",
     "output_type": "stream",
     "text": [
      "{'joe': 4, 'wally': 2}\n"
     ]
    }
   ],
   "source": [
    "print(aDict)"
   ]
  },
  {
   "cell_type": "code",
   "execution_count": 3,
   "id": "fe8b6064-e89e-4113-aa52-fe38fae0dc88",
   "metadata": {},
   "outputs": [
    {
     "name": "stdout",
     "output_type": "stream",
     "text": [
      "{'joe': 1, 'wally': 2}\n"
     ]
    }
   ],
   "source": [
    "aDict['joe'] = 1\n",
    "print(aDict)"
   ]
  },
  {
   "cell_type": "code",
   "execution_count": 4,
   "id": "616ca610-85f1-42c2-8b7b-a90b0835386f",
   "metadata": {},
   "outputs": [
    {
     "name": "stdout",
     "output_type": "stream",
     "text": [
      "2\n"
     ]
    }
   ],
   "source": [
    "print(aDict['wally'])"
   ]
  },
  {
   "cell_type": "code",
   "execution_count": 5,
   "id": "ef359717-9625-4dde-8d22-b2aff1822711",
   "metadata": {},
   "outputs": [
    {
     "name": "stdout",
     "output_type": "stream",
     "text": [
      "{'joe': 1}\n"
     ]
    }
   ],
   "source": [
    "del aDict['wally']\n",
    "print(aDict)"
   ]
  },
  {
   "cell_type": "code",
   "execution_count": 6,
   "id": "b95ffd0c-f675-403b-bcf5-9905dc2bcd01",
   "metadata": {},
   "outputs": [
    {
     "name": "stdout",
     "output_type": "stream",
     "text": [
      "{'joe': 1, 'isla': 0}\n"
     ]
    }
   ],
   "source": [
    "aDict['isla'] = 0\n",
    "print(aDict)"
   ]
  },
  {
   "cell_type": "markdown",
   "id": "e6981527-2fff-47ac-962c-d7cfeb55b7be",
   "metadata": {},
   "source": [
    "## If statements\n",
    "\n",
    "We can use `if` statements to decide which code will be executed."
   ]
  },
  {
   "cell_type": "code",
   "execution_count": 8,
   "id": "ad75df0d-58b4-419d-bd42-a3bf6fea8417",
   "metadata": {},
   "outputs": [
    {
     "name": "stdout",
     "output_type": "stream",
     "text": [
      "value is less than 200\n"
     ]
    }
   ],
   "source": [
    "value = 100\n",
    "\n",
    "if value < 200: \n",
    "    print(\"value is less than 200\")\n",
    "else:\n",
    "    print(\"value is greater than 200\")"
   ]
  },
  {
   "cell_type": "markdown",
   "id": "627c2703-8ac4-4b2a-9508-f7d884e12ae1",
   "metadata": {},
   "source": [
    "### Comparison Operators\n",
    "\n",
    "Comparison opperators can be used to compare two values"
   ]
  },
  {
   "cell_type": "code",
   "execution_count": 9,
   "id": "5b293cd6-cabd-49f9-a525-c9e1de09d6d0",
   "metadata": {},
   "outputs": [
    {
     "ename": "SyntaxError",
     "evalue": "invalid syntax (<ipython-input-9-8188e890f13f>, line 1)",
     "output_type": "error",
     "traceback": [
      "\u001b[0;36m  Input \u001b[0;32mIn [9]\u001b[0;36m\u001b[0m\n\u001b[0;31m    print(1 ===1)\u001b[0m\n\u001b[0m              ^\u001b[0m\n\u001b[0;31mSyntaxError\u001b[0m\u001b[0;31m:\u001b[0m invalid syntax\n"
     ]
    }
   ],
   "source": [
    "print(1 ===1)"
   ]
  },
  {
   "cell_type": "code",
   "execution_count": 10,
   "id": "9ad44dd9-2aa3-4466-9843-98db6618978a",
   "metadata": {},
   "outputs": [
    {
     "name": "stdout",
     "output_type": "stream",
     "text": [
      "True\n"
     ]
    }
   ],
   "source": [
    "print(1 == 1)"
   ]
  },
  {
   "cell_type": "code",
   "execution_count": 11,
   "id": "bafe4b52-915e-4bae-9dbc-56f2a5c87771",
   "metadata": {},
   "outputs": [
    {
     "name": "stdout",
     "output_type": "stream",
     "text": [
      "True\n"
     ]
    }
   ],
   "source": [
    "print(1 != 2)"
   ]
  },
  {
   "cell_type": "code",
   "execution_count": 12,
   "id": "74c0d5d3-4c91-440e-af3b-0b1b493285b3",
   "metadata": {},
   "outputs": [
    {
     "name": "stdout",
     "output_type": "stream",
     "text": [
      "False\n",
      "False\n"
     ]
    },
    {
     "data": {
      "text/plain": [
       "bool"
      ]
     },
     "execution_count": 12,
     "metadata": {},
     "output_type": "execute_result"
    }
   ],
   "source": [
    "gt = 1 > 2\n",
    "gte = 1 >=2\n",
    "print(gt)\n",
    "print(gte)\n",
    "type(gt)"
   ]
  },
  {
   "cell_type": "code",
   "execution_count": 13,
   "id": "218fc621-b19d-4d3b-9a6e-b4ec2ba2a23f",
   "metadata": {},
   "outputs": [
    {
     "name": "stdout",
     "output_type": "stream",
     "text": [
      "True\n"
     ]
    }
   ],
   "source": [
    "print(gt == 0)"
   ]
  },
  {
   "cell_type": "code",
   "execution_count": 14,
   "id": "557a2a36-a026-4646-b7c3-8ed3452f4980",
   "metadata": {},
   "outputs": [],
   "source": [
    "lt = 1 < 2\n",
    "lte = 1 <= 2"
   ]
  },
  {
   "cell_type": "markdown",
   "id": "764d39af-e62d-4057-9117-5e216ecced8b",
   "metadata": {},
   "source": [
    "### Logical Operators\n",
    "\n",
    "Logical operatores are used ot commmbine conditional statements."
   ]
  },
  {
   "cell_type": "code",
   "execution_count": 15,
   "id": "02a2b503-a701-4ce6-92ce-b5b5ed69dead",
   "metadata": {},
   "outputs": [
    {
     "name": "stdout",
     "output_type": "stream",
     "text": [
      "True\n"
     ]
    }
   ],
   "source": [
    "print( 1 < 2 and 2 < 3)"
   ]
  },
  {
   "cell_type": "code",
   "execution_count": 16,
   "id": "41117d08-b53b-4e07-90f4-694f99fcb224",
   "metadata": {},
   "outputs": [
    {
     "name": "stdout",
     "output_type": "stream",
     "text": [
      "True\n"
     ]
    }
   ],
   "source": [
    "print( 1< 2 or 2> 3)"
   ]
  },
  {
   "cell_type": "code",
   "execution_count": 17,
   "id": "2f9e2b87-f94f-4869-bfa2-ea228f9dbaff",
   "metadata": {},
   "outputs": [
    {
     "name": "stdout",
     "output_type": "stream",
     "text": [
      "True\n"
     ]
    }
   ],
   "source": [
    "print(not(1>2))"
   ]
  },
  {
   "cell_type": "markdown",
   "id": "63dcc7dd-1cfb-4fe6-a854-5314fb7ecb92",
   "metadata": {},
   "source": [
    "## Custom Functions/Methods"
   ]
  },
  {
   "cell_type": "code",
   "execution_count": 18,
   "id": "7f28b885-cf03-4486-b015-b0b9f5cb0ea0",
   "metadata": {},
   "outputs": [],
   "source": [
    "def hello_world():\n",
    "    print(\"hello world\")\n",
    "    "
   ]
  },
  {
   "cell_type": "code",
   "execution_count": 19,
   "id": "6197bfc3-93af-4f53-a048-58f872a01cb5",
   "metadata": {},
   "outputs": [
    {
     "name": "stdout",
     "output_type": "stream",
     "text": [
      "hello world\n"
     ]
    }
   ],
   "source": [
    "hello_world()"
   ]
  },
  {
   "cell_type": "code",
   "execution_count": null,
   "id": "d034edff-f349-404e-86b4-d1e95e1d1776",
   "metadata": {},
   "outputs": [],
   "source": [
    "def bigger(a, b):\n",
    "    # this will return whichever value a or b is larger\n",
    "    if a>b:\n",
    "        result =a\n",
    "    else:\n",
    "        result = b\n",
    "    return result"
   ]
  },
  {
   "cell_type": "code",
   "execution_count": 22,
   "id": "b76efb51-44b1-45e2-aa36-89f5d6500aa1",
   "metadata": {},
   "outputs": [
    {
     "name": "stdout",
     "output_type": "stream",
     "text": [
      "5\n"
     ]
    }
   ],
   "source": [
    "print(bigger(3,5))"
   ]
  },
  {
   "cell_type": "code",
   "execution_count": 26,
   "id": "d58cacc2-9088-40a8-ad98-82f0346da8e2",
   "metadata": {},
   "outputs": [
    {
     "name": "stdout",
     "output_type": "stream",
     "text": [
      "5\n"
     ]
    }
   ],
   "source": [
    "result = bigger(4,5)\n",
    "print(result)"
   ]
  },
  {
   "cell_type": "code",
   "execution_count": null,
   "id": "753808fb-19fb-44c3-8bd0-374822ef17fc",
   "metadata": {},
   "outputs": [],
   "source": []
  },
  {
   "cell_type": "markdown",
   "id": "790b00b8-7f1f-4377-8c27-304c6aa62440",
   "metadata": {},
   "source": [
    "## Classes\n",
    "\n",
    "Classes allow us to create a new type of object that alls for added functionality."
   ]
  },
  {
   "cell_type": "code",
   "execution_count": 31,
   "id": "2433d25b-a8b7-4e33-a505-42e47a5cbb89",
   "metadata": {},
   "outputs": [],
   "source": [
    "class Agent:\n",
    "    \n",
    "    def __init__(self, u ,e):\n",
    "        self.u = u\n",
    "        self.e = e\n",
    "    \n",
    "    def get_utility(self, x, y):\n",
    "        if self.u == 'linear':\n",
    "            result = x+ y\n",
    "        if self.u =='leontief':\n",
    "            result = min(x,y)\n",
    "        return result"
   ]
  },
  {
   "cell_type": "code",
   "execution_count": 32,
   "id": "a0c98abd-a03e-44b1-b02a-6e68af16b6ec",
   "metadata": {},
   "outputs": [
    {
     "name": "stdout",
     "output_type": "stream",
     "text": [
      "linear 10\n"
     ]
    }
   ],
   "source": [
    "agent1 = Agent('linear', 10)\n",
    "print(agent1.u, agent1.e)"
   ]
  },
  {
   "cell_type": "code",
   "execution_count": 33,
   "id": "68612e8d-1c01-4e08-b762-62e02b1ef8e9",
   "metadata": {},
   "outputs": [
    {
     "name": "stdout",
     "output_type": "stream",
     "text": [
      "leontief 20\n"
     ]
    }
   ],
   "source": [
    "agent2 = Agent('leontief', 20)\n",
    "print(agent2.u, agent2.e)"
   ]
  },
  {
   "cell_type": "code",
   "execution_count": 34,
   "id": "edc7b095-fde2-44bc-9b8c-7830beab579d",
   "metadata": {},
   "outputs": [
    {
     "data": {
      "text/plain": [
       "15"
      ]
     },
     "execution_count": 34,
     "metadata": {},
     "output_type": "execute_result"
    }
   ],
   "source": [
    "agent1.get_utility(5,10)"
   ]
  },
  {
   "cell_type": "code",
   "execution_count": 35,
   "id": "f7248789-fddd-47b3-ae5e-3122cafd4e3a",
   "metadata": {},
   "outputs": [
    {
     "data": {
      "text/plain": [
       "1"
      ]
     },
     "execution_count": 35,
     "metadata": {},
     "output_type": "execute_result"
    }
   ],
   "source": [
    "agent2.get_utility(100,1)"
   ]
  },
  {
   "cell_type": "markdown",
   "id": "f7197e74-0639-4677-ac6b-722269896f85",
   "metadata": {},
   "source": [
    "## Objects in Python"
   ]
  },
  {
   "cell_type": "code",
   "execution_count": 36,
   "id": "db2f6978-9be0-49cf-84cb-22a86f7fd3e4",
   "metadata": {},
   "outputs": [],
   "source": [
    "alist = [1,2,3]"
   ]
  },
  {
   "cell_type": "code",
   "execution_count": 37,
   "id": "f2329eb5-0d61-4b79-81ea-8cbc4443eff3",
   "metadata": {},
   "outputs": [
    {
     "name": "stdout",
     "output_type": "stream",
     "text": [
      "[1, 2, 3, 4]\n"
     ]
    }
   ],
   "source": [
    "alist.append(4)\n",
    "print(alist)"
   ]
  },
  {
   "cell_type": "markdown",
   "id": "f615b935-e484-4935-aa1d-e194752f801e",
   "metadata": {},
   "source": [
    "### Strings"
   ]
  },
  {
   "cell_type": "code",
   "execution_count": 39,
   "id": "4bc59426-7f12-4584-87b6-c03859b446a2",
   "metadata": {},
   "outputs": [],
   "source": [
    "aString = \"hello$world\"\n",
    "##Hello, World!"
   ]
  },
  {
   "cell_type": "code",
   "execution_count": 40,
   "id": "1e8b7cdb-1c92-49df-ba3d-88b3b0555e88",
   "metadata": {},
   "outputs": [
    {
     "name": "stdout",
     "output_type": "stream",
     "text": [
      "hello world\n"
     ]
    }
   ],
   "source": [
    "aString = aString.replace('$', ' ')\n",
    "print(aString)"
   ]
  },
  {
   "cell_type": "code",
   "execution_count": 41,
   "id": "6fccf296-4889-459e-b79c-7e2815908236",
   "metadata": {},
   "outputs": [
    {
     "name": "stdout",
     "output_type": "stream",
     "text": [
      "Hello World\n"
     ]
    }
   ],
   "source": [
    "aString = aString.title()\n",
    "print(aString)"
   ]
  },
  {
   "cell_type": "code",
   "execution_count": 42,
   "id": "ce076a49-5011-4ef6-a480-7dde216af7df",
   "metadata": {},
   "outputs": [
    {
     "name": "stdout",
     "output_type": "stream",
     "text": [
      "Hello World\n"
     ]
    }
   ],
   "source": [
    "hello, world = aString.split(' ')\n",
    "print(hello, world)"
   ]
  },
  {
   "cell_type": "code",
   "execution_count": 43,
   "id": "7f204260-5f7f-465f-9e1a-db4716d4b241",
   "metadata": {},
   "outputs": [
    {
     "name": "stdout",
     "output_type": "stream",
     "text": [
      "Hello,\n"
     ]
    }
   ],
   "source": [
    "hello = hello + ','\n",
    "print(hello)"
   ]
  },
  {
   "cell_type": "code",
   "execution_count": 44,
   "id": "ae86f603-a995-4762-89cc-8076d8d5cb86",
   "metadata": {},
   "outputs": [
    {
     "name": "stdout",
     "output_type": "stream",
     "text": [
      "Hello, World!\n"
     ]
    }
   ],
   "source": [
    "aString = hello + ' ' + world +'!'\n",
    "print(aString)"
   ]
  },
  {
   "cell_type": "code",
   "execution_count": null,
   "id": "1c2de1d8-ecd4-4839-8f70-0aaf04ec4631",
   "metadata": {},
   "outputs": [],
   "source": []
  }
 ],
 "metadata": {
  "kernelspec": {
   "display_name": "Python 3",
   "language": "python",
   "name": "python3"
  },
  "language_info": {
   "codemirror_mode": {
    "name": "ipython",
    "version": 3
   },
   "file_extension": ".py",
   "mimetype": "text/x-python",
   "name": "python",
   "nbconvert_exporter": "python",
   "pygments_lexer": "ipython3",
   "version": "3.9.5"
  }
 },
 "nbformat": 4,
 "nbformat_minor": 5
}
