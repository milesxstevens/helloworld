{
 "cells": [
  {
   "cell_type": "code",
   "execution_count": 3,
   "id": "f96a6bb3-ad37-4650-9e4a-92026f98c81e",
   "metadata": {},
   "outputs": [],
   "source": [
    "import os\n",
    "import pandas as pd\n",
    "import numpy as np\n",
    "import matplotlib.pyplot as plt\n",
    "%matplotlib inline"
   ]
  },
  {
   "cell_type": "markdown",
   "id": "5312175c-2bc1-44f8-9063-28c00c734b0f",
   "metadata": {},
   "source": [
    "To enable inline plots Jupyter notebooks, we need to use %matplotlib magic command"
   ]
  },
  {
   "cell_type": "markdown",
   "id": "ef50eec1-d7ac-4364-9d51-293b481a9ef9",
   "metadata": {},
   "source": [
    "### Read csv from URL"
   ]
  },
  {
   "cell_type": "code",
   "execution_count": 4,
   "id": "f5204c06-20a0-454e-8d8f-02ae2586255e",
   "metadata": {},
   "outputs": [],
   "source": [
    "csvUrl = 'https://raw.githubusercontent.com/seidelj/python-course/main/week9/prices.csv'\n",
    "df = pd.read_csv(csvUrl)"
   ]
  },
  {
   "cell_type": "code",
   "execution_count": 5,
   "id": "4f249e88-9d70-4f28-965c-3859f8e4f78b",
   "metadata": {},
   "outputs": [
    {
     "data": {
      "text/html": [
       "<div>\n",
       "<style scoped>\n",
       "    .dataframe tbody tr th:only-of-type {\n",
       "        vertical-align: middle;\n",
       "    }\n",
       "\n",
       "    .dataframe tbody tr th {\n",
       "        vertical-align: top;\n",
       "    }\n",
       "\n",
       "    .dataframe thead th {\n",
       "        text-align: right;\n",
       "    }\n",
       "</style>\n",
       "<table border=\"1\" class=\"dataframe\">\n",
       "  <thead>\n",
       "    <tr style=\"text-align: right;\">\n",
       "      <th></th>\n",
       "      <th>period</th>\n",
       "      <th>price</th>\n",
       "      <th>session</th>\n",
       "      <th>market</th>\n",
       "      <th>fv</th>\n",
       "      <th>rd</th>\n",
       "    </tr>\n",
       "  </thead>\n",
       "  <tbody>\n",
       "    <tr>\n",
       "      <th>0</th>\n",
       "      <td>1</td>\n",
       "      <td>214</td>\n",
       "      <td>online1</td>\n",
       "      <td>1</td>\n",
       "      <td>240</td>\n",
       "      <td>0.729545</td>\n",
       "    </tr>\n",
       "    <tr>\n",
       "      <th>1</th>\n",
       "      <td>2</td>\n",
       "      <td>164</td>\n",
       "      <td>online1</td>\n",
       "      <td>1</td>\n",
       "      <td>216</td>\n",
       "      <td>0.729545</td>\n",
       "    </tr>\n",
       "    <tr>\n",
       "      <th>2</th>\n",
       "      <td>3</td>\n",
       "      <td>161</td>\n",
       "      <td>online1</td>\n",
       "      <td>1</td>\n",
       "      <td>192</td>\n",
       "      <td>0.729545</td>\n",
       "    </tr>\n",
       "    <tr>\n",
       "      <th>3</th>\n",
       "      <td>4</td>\n",
       "      <td>187</td>\n",
       "      <td>online1</td>\n",
       "      <td>1</td>\n",
       "      <td>168</td>\n",
       "      <td>0.729545</td>\n",
       "    </tr>\n",
       "    <tr>\n",
       "      <th>4</th>\n",
       "      <td>5</td>\n",
       "      <td>289</td>\n",
       "      <td>online1</td>\n",
       "      <td>1</td>\n",
       "      <td>144</td>\n",
       "      <td>0.729545</td>\n",
       "    </tr>\n",
       "    <tr>\n",
       "      <th>...</th>\n",
       "      <td>...</td>\n",
       "      <td>...</td>\n",
       "      <td>...</td>\n",
       "      <td>...</td>\n",
       "      <td>...</td>\n",
       "      <td>...</td>\n",
       "    </tr>\n",
       "    <tr>\n",
       "      <th>195</th>\n",
       "      <td>6</td>\n",
       "      <td>806</td>\n",
       "      <td>online9</td>\n",
       "      <td>2</td>\n",
       "      <td>120</td>\n",
       "      <td>3.403788</td>\n",
       "    </tr>\n",
       "    <tr>\n",
       "      <th>196</th>\n",
       "      <td>7</td>\n",
       "      <td>393</td>\n",
       "      <td>online9</td>\n",
       "      <td>2</td>\n",
       "      <td>96</td>\n",
       "      <td>3.403788</td>\n",
       "    </tr>\n",
       "    <tr>\n",
       "      <th>197</th>\n",
       "      <td>8</td>\n",
       "      <td>388</td>\n",
       "      <td>online9</td>\n",
       "      <td>2</td>\n",
       "      <td>72</td>\n",
       "      <td>3.403788</td>\n",
       "    </tr>\n",
       "    <tr>\n",
       "      <th>198</th>\n",
       "      <td>9</td>\n",
       "      <td>196</td>\n",
       "      <td>online9</td>\n",
       "      <td>2</td>\n",
       "      <td>48</td>\n",
       "      <td>3.403788</td>\n",
       "    </tr>\n",
       "    <tr>\n",
       "      <th>199</th>\n",
       "      <td>10</td>\n",
       "      <td>429</td>\n",
       "      <td>online9</td>\n",
       "      <td>2</td>\n",
       "      <td>24</td>\n",
       "      <td>3.403788</td>\n",
       "    </tr>\n",
       "  </tbody>\n",
       "</table>\n",
       "<p>200 rows × 6 columns</p>\n",
       "</div>"
      ],
      "text/plain": [
       "     period  price  session  market   fv        rd\n",
       "0         1    214  online1       1  240  0.729545\n",
       "1         2    164  online1       1  216  0.729545\n",
       "2         3    161  online1       1  192  0.729545\n",
       "3         4    187  online1       1  168  0.729545\n",
       "4         5    289  online1       1  144  0.729545\n",
       "..      ...    ...      ...     ...  ...       ...\n",
       "195       6    806  online9       2  120  3.403788\n",
       "196       7    393  online9       2   96  3.403788\n",
       "197       8    388  online9       2   72  3.403788\n",
       "198       9    196  online9       2   48  3.403788\n",
       "199      10    429  online9       2   24  3.403788\n",
       "\n",
       "[200 rows x 6 columns]"
      ]
     },
     "execution_count": 5,
     "metadata": {},
     "output_type": "execute_result"
    }
   ],
   "source": [
    "df"
   ]
  },
  {
   "cell_type": "markdown",
   "id": "c266118d-12fc-4fe3-bd04-62e64ba9d0df",
   "metadata": {},
   "source": [
    "### Select a subset of the data"
   ]
  },
  {
   "cell_type": "code",
   "execution_count": 6,
   "id": "451f362d-552b-49cf-af44-1187d4d363fb",
   "metadata": {},
   "outputs": [
    {
     "data": {
      "text/html": [
       "<div>\n",
       "<style scoped>\n",
       "    .dataframe tbody tr th:only-of-type {\n",
       "        vertical-align: middle;\n",
       "    }\n",
       "\n",
       "    .dataframe tbody tr th {\n",
       "        vertical-align: top;\n",
       "    }\n",
       "\n",
       "    .dataframe thead th {\n",
       "        text-align: right;\n",
       "    }\n",
       "</style>\n",
       "<table border=\"1\" class=\"dataframe\">\n",
       "  <thead>\n",
       "    <tr style=\"text-align: right;\">\n",
       "      <th></th>\n",
       "      <th>period</th>\n",
       "      <th>price</th>\n",
       "      <th>session</th>\n",
       "      <th>market</th>\n",
       "      <th>fv</th>\n",
       "      <th>rd</th>\n",
       "    </tr>\n",
       "  </thead>\n",
       "  <tbody>\n",
       "    <tr>\n",
       "      <th>0</th>\n",
       "      <td>1</td>\n",
       "      <td>214</td>\n",
       "      <td>online1</td>\n",
       "      <td>1</td>\n",
       "      <td>240</td>\n",
       "      <td>0.729545</td>\n",
       "    </tr>\n",
       "    <tr>\n",
       "      <th>1</th>\n",
       "      <td>2</td>\n",
       "      <td>164</td>\n",
       "      <td>online1</td>\n",
       "      <td>1</td>\n",
       "      <td>216</td>\n",
       "      <td>0.729545</td>\n",
       "    </tr>\n",
       "    <tr>\n",
       "      <th>2</th>\n",
       "      <td>3</td>\n",
       "      <td>161</td>\n",
       "      <td>online1</td>\n",
       "      <td>1</td>\n",
       "      <td>192</td>\n",
       "      <td>0.729545</td>\n",
       "    </tr>\n",
       "    <tr>\n",
       "      <th>3</th>\n",
       "      <td>4</td>\n",
       "      <td>187</td>\n",
       "      <td>online1</td>\n",
       "      <td>1</td>\n",
       "      <td>168</td>\n",
       "      <td>0.729545</td>\n",
       "    </tr>\n",
       "    <tr>\n",
       "      <th>4</th>\n",
       "      <td>5</td>\n",
       "      <td>289</td>\n",
       "      <td>online1</td>\n",
       "      <td>1</td>\n",
       "      <td>144</td>\n",
       "      <td>0.729545</td>\n",
       "    </tr>\n",
       "    <tr>\n",
       "      <th>5</th>\n",
       "      <td>6</td>\n",
       "      <td>331</td>\n",
       "      <td>online1</td>\n",
       "      <td>1</td>\n",
       "      <td>120</td>\n",
       "      <td>0.729545</td>\n",
       "    </tr>\n",
       "    <tr>\n",
       "      <th>6</th>\n",
       "      <td>7</td>\n",
       "      <td>379</td>\n",
       "      <td>online1</td>\n",
       "      <td>1</td>\n",
       "      <td>96</td>\n",
       "      <td>0.729545</td>\n",
       "    </tr>\n",
       "    <tr>\n",
       "      <th>7</th>\n",
       "      <td>8</td>\n",
       "      <td>213</td>\n",
       "      <td>online1</td>\n",
       "      <td>1</td>\n",
       "      <td>72</td>\n",
       "      <td>0.729545</td>\n",
       "    </tr>\n",
       "    <tr>\n",
       "      <th>8</th>\n",
       "      <td>9</td>\n",
       "      <td>59</td>\n",
       "      <td>online1</td>\n",
       "      <td>1</td>\n",
       "      <td>48</td>\n",
       "      <td>0.729545</td>\n",
       "    </tr>\n",
       "    <tr>\n",
       "      <th>9</th>\n",
       "      <td>10</td>\n",
       "      <td>68</td>\n",
       "      <td>online1</td>\n",
       "      <td>1</td>\n",
       "      <td>24</td>\n",
       "      <td>0.729545</td>\n",
       "    </tr>\n",
       "  </tbody>\n",
       "</table>\n",
       "</div>"
      ],
      "text/plain": [
       "   period  price  session  market   fv        rd\n",
       "0       1    214  online1       1  240  0.729545\n",
       "1       2    164  online1       1  216  0.729545\n",
       "2       3    161  online1       1  192  0.729545\n",
       "3       4    187  online1       1  168  0.729545\n",
       "4       5    289  online1       1  144  0.729545\n",
       "5       6    331  online1       1  120  0.729545\n",
       "6       7    379  online1       1   96  0.729545\n",
       "7       8    213  online1       1   72  0.729545\n",
       "8       9     59  online1       1   48  0.729545\n",
       "9      10     68  online1       1   24  0.729545"
      ]
     },
     "execution_count": 6,
     "metadata": {},
     "output_type": "execute_result"
    }
   ],
   "source": [
    "m1 = df[(df['session'] == 'online1') & (df['market'] == 1)]\n",
    "m1"
   ]
  },
  {
   "cell_type": "markdown",
   "id": "132c3a14-e033-43d0-a1d5-41a8259f144b",
   "metadata": {},
   "source": [
    "## A simple plot"
   ]
  },
  {
   "cell_type": "code",
   "execution_count": 7,
   "id": "3b054598-0248-4f8d-8b44-1061382f0657",
   "metadata": {},
   "outputs": [
    {
     "data": {
      "image/png": "[encoded data removed]",
      "text/plain": [
       "<Figure size 432x288 with 1 Axes>"
      ]
     },
     "metadata": {
      "needs_background": "light"
     },
     "output_type": "display_data"
    }
   ],
   "source": [
    "fig, ax = plt.subplots()\n"
   ]
  },
  {
   "cell_type": "code",
   "execution_count": 11,
   "id": "48c9e0b5-257f-4b86-801f-d7731cdb8f2a",
   "metadata": {},
   "outputs": [
    {
     "data": {
      "image/png": "[encoded data removed]",
      "text/plain": [
       "<Figure size 432x288 with 1 Axes>"
      ]
     },
     "metadata": {
      "needs_background": "light"
     },
     "output_type": "display_data"
    }
   ],
   "source": [
    "fig, ax = plt.subplots()\n",
    "ax.plot(m1['period'], m1['price']);\n",
    "\n",
    "ax.set_xlabel('Trading Period');\n",
    "ax.set_ylabel('Price');"
   ]
  },
  {
   "cell_type": "markdown",
   "id": "f109f245-3217-4867-be4e-1415d02590ed",
   "metadata": {},
   "source": [
    "### Plotting Multiple Relationships in the same figure"
   ]
  },
  {
   "cell_type": "code",
   "execution_count": 12,
   "id": "a08918c0-d4df-4748-873c-be7f706ca437",
   "metadata": {},
   "outputs": [
    {
     "data": {
      "image/png": "[encoded data removed]",
      "text/plain": [
       "<Figure size 432x288 with 1 Axes>"
      ]
     },
     "metadata": {
      "needs_background": "light"
     },
     "output_type": "display_data"
    }
   ],
   "source": [
    "fig, ax = plt.subplots()\n",
    "ax.plot(m1['period'], m1['price'], label='online1');\n",
    "ax.plot(m1['period'], m1['fv'], linestyle='--', color='gray');\n",
    "\n",
    "ax.set_xlabel(\"Trading Period\")\n",
    "ax.set_ylabel(\"Price\")\n",
    "\n",
    "ax.legend(loc=\"upper right\");\n",
    "ax.set_title(\"Market 1\");\n",
    "\n",
    "plt.savefig('online1.png')"
   ]
  },
  {
   "cell_type": "markdown",
   "id": "5dfe3973-fd58-4fdd-bdea-36d76ae38b43",
   "metadata": {},
   "source": [
    "### Multiple Subplots"
   ]
  },
  {
   "cell_type": "code",
   "execution_count": 15,
   "id": "b0f0b29e-2817-40f0-9650-26254ec9edea",
   "metadata": {},
   "outputs": [],
   "source": [
    "m2 = df[(df['session'] == 'online1') & (df['market'] ==2)]"
   ]
  },
  {
   "cell_type": "code",
   "execution_count": 18,
   "id": "c755e8a9-2044-4f02-b1d5-8dde77a2833f",
   "metadata": {},
   "outputs": [
    {
     "data": {
      "image/png": "[encoded data removed]",
      "text/plain": [
       "<Figure size 432x288 with 2 Axes>"
      ]
     },
     "metadata": {
      "needs_background": "light"
     },
     "output_type": "display_data"
    }
   ],
   "source": [
    "fig, ax = plt.subplots(nrows=2, ncols=1, sharey=True, sharex= True)\n",
    "ax[0].plot(m1['period'], m1['price']);\n",
    "ax[1].plot(m2['period'], m2['price']);\n",
    "\n",
    "fig.supxlabel(\"Trading Period\");\n",
    "fig.supylabel(\"Price\");\n",
    "\n",
    "ax[0].set_title(\"First Market\");\n",
    "ax[1].set_title(\"Second Market\");\n",
    "plt.savefig('twomarkets.png')\n"
   ]
  },
  {
   "cell_type": "code",
   "execution_count": null,
   "id": "f83d2497-3c81-41ab-8269-a780f5a82bcf",
   "metadata": {},
   "outputs": [],
   "source": []
  }
 ],
 "metadata": {
  "kernelspec": {
   "display_name": "Python 3",
   "language": "python",
   "name": "python3"
  },
  "language_info": {
   "codemirror_mode": {
    "name": "ipython",
    "version": 3
   },
   "file_extension": ".py",
   "mimetype": "text/x-python",
   "name": "python",
   "nbconvert_exporter": "python",
   "pygments_lexer": "ipython3",
   "version": "3.9.5"
  }
 },
 "nbformat": 4,
 "nbformat_minor": 5
}
