{
 "cells": [
  {
   "cell_type": "code",
   "execution_count": 1,
   "id": "c65fab6a-b7e5-41e3-9f69-45945546140e",
   "metadata": {},
   "outputs": [],
   "source": [
    "import os, csv\n",
    "import random"
   ]
  },
  {
   "cell_type": "code",
   "execution_count": 2,
   "id": "933a2dba-f3c4-4fb3-9148-caf08eed8c7b",
   "metadata": {},
   "outputs": [
    {
     "name": "stdout",
     "output_type": "stream",
     "text": [
      "/Users/milesstevens/Documents/GitHub/helloworld\n"
     ]
    }
   ],
   "source": [
    "print(os.getcwd())"
   ]
  },
  {
   "cell_type": "code",
   "execution_count": 3,
   "id": "8aca307b-4751-4651-9b8c-3f17b7a86d49",
   "metadata": {},
   "outputs": [
    {
     "name": "stdout",
     "output_type": "stream",
     "text": [
      "/Users/milesstevens/Documents/GitHub/helloworld/roster.csv\n"
     ]
    }
   ],
   "source": [
    "path1 = os.getcwd()\n",
    "path2 = 'roster.csv'\n",
    "csvFilePath = os.path.join(path1, path2)\n",
    "print(csvFilePath)"
   ]
  },
  {
   "cell_type": "markdown",
   "id": "b4f7774a-dcd0-4de1-a97b-e7e4b584f428",
   "metadata": {},
   "source": [
    "### Reading csv files"
   ]
  },
  {
   "cell_type": "code",
   "execution_count": 4,
   "id": "c26a2afd-664d-4bc2-95e0-f72615163925",
   "metadata": {},
   "outputs": [
    {
     "name": "stdout",
     "output_type": "stream",
     "text": [
      "['name']\n"
     ]
    }
   ],
   "source": [
    "with open(csvFilePath, mode='r', newline='',encoding='utf-8-sig') as csvFile:\n",
    "    reader = csv.reader(csvFile, delimiter=',')\n",
    "    print(next(reader))"
   ]
  },
  {
   "cell_type": "code",
   "execution_count": 5,
   "id": "bd548e3a-784e-45fe-ae5a-68e4025c035d",
   "metadata": {},
   "outputs": [
    {
     "name": "stdout",
     "output_type": "stream",
     "text": [
      "['Joe']\n",
      "['Jihuan']\n"
     ]
    }
   ],
   "source": [
    "with open(csvFilePath, mode='r', newline='',encoding='utf-8-sig') as csvFile:\n",
    "    reader = csv.reader(csvFile, delimiter=',')\n",
    "    header = next(reader)\n",
    "    print(next(reader))\n",
    "    print(next(reader))"
   ]
  },
  {
   "cell_type": "code",
   "execution_count": 6,
   "id": "2140832a-95e3-49da-9b5b-b78152083f6e",
   "metadata": {},
   "outputs": [
    {
     "name": "stdout",
     "output_type": "stream",
     "text": [
      "['Joe']\n",
      "['Jihuan']\n",
      "['Ali']\n",
      "['Frances']\n",
      "['Daniela V']\n",
      "['Mostafa']\n",
      "['Daniela P']\n",
      "['Cesar']\n",
      "['Jarrod']\n",
      "['Austin']\n",
      "['Jack']\n",
      "['Ala']\n",
      "['Sergii']\n",
      "['Miles']\n",
      "['Hyeyun']\n",
      "['Volodymyr']\n",
      "['Yijia']\n",
      "['Hsin-Yun']\n",
      "['Renata']\n",
      "['Max']\n",
      "['Joshua']\n",
      "['David']\n"
     ]
    }
   ],
   "source": [
    "with open(csvFilePath, mode='r', newline='',encoding='utf-8-sig') as csvFile:\n",
    "    reader = csv.reader(csvFile, delimiter=',')\n",
    "    header = next(reader)\n",
    "    roster = []\n",
    "    for row in reader:\n",
    "        print(row)"
   ]
  },
  {
   "cell_type": "code",
   "execution_count": 7,
   "id": "305f7a02-e54e-48b0-a37b-ae77d6f12786",
   "metadata": {},
   "outputs": [
    {
     "name": "stdout",
     "output_type": "stream",
     "text": [
      "{'name': 'Joe'}\n",
      "{'name': 'Jihuan'}\n",
      "{'name': 'Ali'}\n",
      "{'name': 'Frances'}\n",
      "{'name': 'Daniela V'}\n",
      "{'name': 'Mostafa'}\n",
      "{'name': 'Daniela P'}\n",
      "{'name': 'Cesar'}\n",
      "{'name': 'Jarrod'}\n",
      "{'name': 'Austin'}\n",
      "{'name': 'Jack'}\n",
      "{'name': 'Ala'}\n",
      "{'name': 'Sergii'}\n",
      "{'name': 'Miles'}\n",
      "{'name': 'Hyeyun'}\n",
      "{'name': 'Volodymyr'}\n",
      "{'name': 'Yijia'}\n",
      "{'name': 'Hsin-Yun'}\n",
      "{'name': 'Renata'}\n",
      "{'name': 'Max'}\n",
      "{'name': 'Joshua'}\n",
      "{'name': 'David'}\n"
     ]
    }
   ],
   "source": [
    "with open(csvFilePath, mode='r', newline='',encoding='utf-8-sig') as csvFile:\n",
    "    reader = csv.reader(csvFile, delimiter=',')\n",
    "    header = next(reader)\n",
    "    roster = []\n",
    "    for row in reader:\n",
    "        temp = {'name': row[0]}\n",
    "        print(temp)"
   ]
  },
  {
   "cell_type": "code",
   "execution_count": 8,
   "id": "4741de8d-2dad-4677-b89f-0d81ce487dd6",
   "metadata": {},
   "outputs": [
    {
     "name": "stdout",
     "output_type": "stream",
     "text": [
      "[{'name': 'Joe'}, {'name': 'Jihuan'}, {'name': 'Ali'}, {'name': 'Frances'}, {'name': 'Daniela V'}, {'name': 'Mostafa'}, {'name': 'Daniela P'}, {'name': 'Cesar'}, {'name': 'Jarrod'}, {'name': 'Austin'}, {'name': 'Jack'}, {'name': 'Ala'}, {'name': 'Sergii'}, {'name': 'Miles'}, {'name': 'Hyeyun'}, {'name': 'Volodymyr'}, {'name': 'Yijia'}, {'name': 'Hsin-Yun'}, {'name': 'Renata'}, {'name': 'Max'}, {'name': 'Joshua'}, {'name': 'David'}]\n"
     ]
    }
   ],
   "source": [
    "with open(csvFilePath, mode='r', newline='',encoding='utf-8-sig') as csvFile:\n",
    "    reader = csv.reader(csvFile, delimiter=',')\n",
    "    header = next(reader)\n",
    "    roster = []\n",
    "    for row in reader:\n",
    "        temp = {'name': row[0]}\n",
    "        roster.append(temp)\n",
    "    print(roster)"
   ]
  },
  {
   "cell_type": "markdown",
   "id": "b4cfdda7-50e6-484e-abe3-9d4446f02eb0",
   "metadata": {},
   "source": [
    "### Modifying the Data"
   ]
  },
  {
   "cell_type": "code",
   "execution_count": 9,
   "id": "99f33088-ecf3-4829-a34c-06d1c57282fb",
   "metadata": {},
   "outputs": [
    {
     "name": "stdout",
     "output_type": "stream",
     "text": [
      "[{'name': 'Joe'}, {'name': 'Jihuan'}, {'name': 'Ali'}, {'name': 'Frances'}, {'name': 'Daniela V'}, {'name': 'Mostafa'}, {'name': 'Daniela P'}, {'name': 'Cesar'}, {'name': 'Jarrod'}, {'name': 'Austin'}, {'name': 'Jack'}, {'name': 'Ala'}, {'name': 'Sergii'}, {'name': 'Miles'}, {'name': 'Hyeyun'}, {'name': 'Volodymyr'}, {'name': 'Yijia'}, {'name': 'Hsin-Yun'}, {'name': 'Renata'}, {'name': 'Max'}, {'name': 'Joshua'}, {'name': 'David'}, {'name': 'Wally'}]\n"
     ]
    }
   ],
   "source": [
    "## Add someone who is missing\n",
    "roster.append({'name': 'Wally'})\n",
    "print(roster)"
   ]
  },
  {
   "cell_type": "markdown",
   "id": "f59feead-8386-4a31-a9c3-bb4304b93631",
   "metadata": {},
   "source": [
    "Assign grades"
   ]
  },
  {
   "cell_type": "code",
   "execution_count": 10,
   "id": "cf3c00a4-0994-4e7b-a66f-cfcbdfedff4a",
   "metadata": {},
   "outputs": [],
   "source": [
    "random.seed(1)"
   ]
  },
  {
   "cell_type": "code",
   "execution_count": 11,
   "id": "255212bf-e935-418e-9eb5-1597a82a6f2e",
   "metadata": {},
   "outputs": [
    {
     "name": "stdout",
     "output_type": "stream",
     "text": [
      "{'name': 'Joe', 'grade': 17}\n",
      "{'name': 'Jihuan', 'grade': 72}\n",
      "{'name': 'Ali', 'grade': 97}\n",
      "{'name': 'Frances', 'grade': 8}\n",
      "{'name': 'Daniela V', 'grade': 32}\n",
      "{'name': 'Mostafa', 'grade': 15}\n",
      "{'name': 'Daniela P', 'grade': 63}\n",
      "{'name': 'Cesar', 'grade': 97}\n",
      "{'name': 'Jarrod', 'grade': 57}\n",
      "{'name': 'Austin', 'grade': 60}\n",
      "{'name': 'Jack', 'grade': 83}\n",
      "{'name': 'Ala', 'grade': 48}\n",
      "{'name': 'Sergii', 'grade': 100}\n",
      "{'name': 'Miles', 'grade': 26}\n",
      "{'name': 'Hyeyun', 'grade': 12}\n",
      "{'name': 'Volodymyr', 'grade': 62}\n",
      "{'name': 'Yijia', 'grade': 3}\n",
      "{'name': 'Hsin-Yun', 'grade': 49}\n",
      "{'name': 'Renata', 'grade': 55}\n",
      "{'name': 'Max', 'grade': 77}\n",
      "{'name': 'Joshua', 'grade': 97}\n",
      "{'name': 'David', 'grade': 98}\n",
      "{'name': 'Wally', 'grade': 0}\n"
     ]
    }
   ],
   "source": [
    "for student in roster:\n",
    "    student['grade'] = random.randint(0,100)\n",
    "    print(student)"
   ]
  },
  {
   "cell_type": "code",
   "execution_count": 12,
   "id": "dfe858fe-67cd-44d6-99be-e19ccc8ad443",
   "metadata": {},
   "outputs": [],
   "source": [
    "def compute_mean(values):\n",
    "    n = len(values)\n",
    "    result = sum(values)/n\n",
    "    return result"
   ]
  },
  {
   "cell_type": "code",
   "execution_count": 13,
   "id": "bffe370b-ae31-48dc-a5e4-29f46f55f8bf",
   "metadata": {},
   "outputs": [
    {
     "name": "stdout",
     "output_type": "stream",
     "text": [
      "[17, 72, 97, 8, 32, 15, 63, 97, 57, 60, 83, 48, 100, 26, 12, 62, 3, 49, 55, 77, 97, 98, 0]\n"
     ]
    }
   ],
   "source": [
    "grades = []\n",
    "for student in roster:\n",
    "    grade = student['grade']\n",
    "    grades.append(grade)\n",
    "    \n",
    "print(grades)"
   ]
  },
  {
   "cell_type": "code",
   "execution_count": 14,
   "id": "ea12ba1d-95dc-4a55-9c5e-290db668f58e",
   "metadata": {},
   "outputs": [
    {
     "name": "stdout",
     "output_type": "stream",
     "text": [
      "53.391304347826086\n"
     ]
    }
   ],
   "source": [
    "mean = compute_mean(grades)\n",
    "print(mean)"
   ]
  },
  {
   "cell_type": "markdown",
   "id": "55019c98-6d62-494d-987f-cbff849b3479",
   "metadata": {},
   "source": [
    "Edit a specific row/student"
   ]
  },
  {
   "cell_type": "code",
   "execution_count": 15,
   "id": "4ab9babf-984f-46cf-af31-41db36a0dc09",
   "metadata": {},
   "outputs": [
    {
     "name": "stdout",
     "output_type": "stream",
     "text": [
      "[{'name': 'Joe', 'grade': 17}, {'name': 'Jihuan', 'grade': 72}, {'name': 'Ali', 'grade': 97}, {'name': 'Frances', 'grade': 8}, {'name': 'Daniela V', 'grade': 32}, {'name': 'Mostafa', 'grade': 15}, {'name': 'Daniela P', 'grade': 100}, {'name': 'Cesar', 'grade': 97}, {'name': 'Jarrod', 'grade': 57}, {'name': 'Austin', 'grade': 60}, {'name': 'Jack', 'grade': 83}, {'name': 'Ala', 'grade': 48}, {'name': 'Sergii', 'grade': 100}, {'name': 'Miles', 'grade': 26}, {'name': 'Hyeyun', 'grade': 12}, {'name': 'Volodymyr', 'grade': 62}, {'name': 'Yijia', 'grade': 3}, {'name': 'Hsin-Yun', 'grade': 49}, {'name': 'Renata', 'grade': 55}, {'name': 'Max', 'grade': 77}, {'name': 'Joshua', 'grade': 97}, {'name': 'David', 'grade': 98}, {'name': 'Wally', 'grade': 0}]\n"
     ]
    }
   ],
   "source": [
    "for student in roster:\n",
    "    if student['name'] == 'Daniela P':\n",
    "        student['grade'] = 100\n",
    "        \n",
    "print(roster)"
   ]
  },
  {
   "cell_type": "code",
   "execution_count": 16,
   "id": "a64e4582-db9f-41ee-af64-3235e3caf9df",
   "metadata": {},
   "outputs": [
    {
     "name": "stdout",
     "output_type": "stream",
     "text": [
      "{'name': 'Joe', 'grade': 57}\n",
      "{'name': 'Jihuan', 'grade': 72}\n",
      "{'name': 'Ali', 'grade': 97}\n",
      "{'name': 'Frances', 'grade': 48}\n",
      "{'name': 'Daniela V', 'grade': 72}\n",
      "{'name': 'Mostafa', 'grade': 55}\n",
      "{'name': 'Daniela P', 'grade': 100}\n",
      "{'name': 'Cesar', 'grade': 97}\n",
      "{'name': 'Jarrod', 'grade': 57}\n",
      "{'name': 'Austin', 'grade': 60}\n",
      "{'name': 'Jack', 'grade': 83}\n",
      "{'name': 'Ala', 'grade': 88}\n",
      "{'name': 'Sergii', 'grade': 100}\n",
      "{'name': 'Miles', 'grade': 66}\n",
      "{'name': 'Hyeyun', 'grade': 52}\n",
      "{'name': 'Volodymyr', 'grade': 62}\n",
      "{'name': 'Yijia', 'grade': 43}\n",
      "{'name': 'Hsin-Yun', 'grade': 89}\n",
      "{'name': 'Renata', 'grade': 55}\n",
      "{'name': 'Max', 'grade': 77}\n",
      "{'name': 'Joshua', 'grade': 97}\n",
      "{'name': 'David', 'grade': 98}\n",
      "{'name': 'Wally', 'grade': 40}\n"
     ]
    }
   ],
   "source": [
    "for student in roster:\n",
    "    if student['grade'] < 50:\n",
    "        student['grade'] = student['grade'] + 40\n",
    "    print(student)"
   ]
  },
  {
   "cell_type": "code",
   "execution_count": 17,
   "id": "3c9983f9-dc55-458b-ba71-06c6864a0cf6",
   "metadata": {},
   "outputs": [
    {
     "name": "stdout",
     "output_type": "stream",
     "text": [
      "[57, 72, 97, 48, 72, 55, 100, 97, 57, 60, 83, 88, 100, 66, 52, 62, 43, 89, 55, 77, 97, 98, 40]\n"
     ]
    }
   ],
   "source": [
    "# list comprehensions\n",
    "grades = [student['grade'] for student in roster]\n",
    "print(grades)"
   ]
  },
  {
   "cell_type": "code",
   "execution_count": 18,
   "id": "e01571ba-033a-4d07-b313-d59a0923a2c5",
   "metadata": {},
   "outputs": [
    {
     "name": "stdout",
     "output_type": "stream",
     "text": [
      "72.3913043478261\n"
     ]
    }
   ],
   "source": [
    "average = compute_mean(grades)\n",
    "print(average)"
   ]
  },
  {
   "cell_type": "markdown",
   "id": "229a8480-6c1c-4484-9a56-53937fb1edce",
   "metadata": {},
   "source": [
    "### Write to CSV"
   ]
  },
  {
   "cell_type": "code",
   "execution_count": 19,
   "id": "4b678e8a-d0f6-46ba-9894-c6e5222f5cb0",
   "metadata": {},
   "outputs": [
    {
     "name": "stdout",
     "output_type": "stream",
     "text": [
      "/Users/milesstevens/Documents/GitHub/helloworld/roster_grades.csv\n"
     ]
    }
   ],
   "source": [
    "outFilePath = os.path.join(os.getcwd(), 'roster_grades.csv')\n",
    "print(outFilePath)"
   ]
  },
  {
   "cell_type": "code",
   "execution_count": 20,
   "id": "6298a0e2-47d2-4819-be20-60c662108073",
   "metadata": {},
   "outputs": [],
   "source": [
    "with open(outFilePath, mode='w', newline='') as csvfile:\n",
    "    pass"
   ]
  },
  {
   "cell_type": "code",
   "execution_count": 23,
   "id": "2c2e4b00-427b-43f1-8c24-26b2a15bdc4f",
   "metadata": {},
   "outputs": [
    {
     "name": "stdout",
     "output_type": "stream",
     "text": [
      "['name', 'grade']\n"
     ]
    }
   ],
   "source": [
    "with open(outFilePath, mode='w', newline='') as csvfile:\n",
    "    writer = csv.writer(csvfile)\n",
    "    print(list(roster[0].keys()))"
   ]
  },
  {
   "cell_type": "code",
   "execution_count": 26,
   "id": "023b5075-7a2b-42c7-a24b-abe6eefb2270",
   "metadata": {},
   "outputs": [
    {
     "name": "stdout",
     "output_type": "stream",
     "text": [
      "['name', 'grade']\n",
      "['Joe', 57]\n",
      "['Jihuan', 72]\n",
      "['Ali', 97]\n",
      "['Frances', 48]\n",
      "['Daniela V', 72]\n",
      "['Mostafa', 55]\n",
      "['Daniela P', 100]\n",
      "['Cesar', 97]\n",
      "['Jarrod', 57]\n",
      "['Austin', 60]\n",
      "['Jack', 83]\n",
      "['Ala', 88]\n",
      "['Sergii', 100]\n",
      "['Miles', 66]\n",
      "['Hyeyun', 52]\n",
      "['Volodymyr', 62]\n",
      "['Yijia', 43]\n",
      "['Hsin-Yun', 89]\n",
      "['Renata', 55]\n",
      "['Max', 77]\n",
      "['Joshua', 97]\n",
      "['David', 98]\n",
      "['Wally', 40]\n"
     ]
    }
   ],
   "source": [
    "with open(outFilePath, mode='w', newline='') as csvfile:\n",
    "    writer = csv.writer(csvfile)\n",
    "    header = list(roster[0].keys())\n",
    "    print(header)\n",
    "    writer.writerow(header)\n",
    "    for student in roster: \n",
    "        rowToWrite = [ student['name'], student['grade'] ]\n",
    "        print(rowToWrite)"
   ]
  },
  {
   "cell_type": "code",
   "execution_count": 27,
   "id": "5b585777-d2fe-480f-8bc8-f97d1a5eda38",
   "metadata": {},
   "outputs": [
    {
     "name": "stdout",
     "output_type": "stream",
     "text": [
      "['name', 'grade']\n"
     ]
    }
   ],
   "source": [
    "with open(outFilePath, mode='w', newline='') as csvfile:\n",
    "    writer = csv.writer(csvfile)\n",
    "    header = list(roster[0].keys())\n",
    "    print(header)\n",
    "    writer.writerow(header)\n",
    "    for student in roster: \n",
    "        rowToWrite = [ student['name'], student['grade'] ]\n",
    "        writer.writerow(rowToWrite)"
   ]
  },
  {
   "cell_type": "code",
   "execution_count": null,
   "id": "4b7a3186-e292-42a6-971a-07c86e32348a",
   "metadata": {},
   "outputs": [],
   "source": []
  }
 ],
 "metadata": {
  "kernelspec": {
   "display_name": "Python 3",
   "language": "python",
   "name": "python3"
  },
  "language_info": {
   "codemirror_mode": {
    "name": "ipython",
    "version": 3
   },
   "file_extension": ".py",
   "mimetype": "text/x-python",
   "name": "python",
   "nbconvert_exporter": "python",
   "pygments_lexer": "ipython3",
   "version": "3.9.5"
  }
 },
 "nbformat": 4,
 "nbformat_minor": 5
}
